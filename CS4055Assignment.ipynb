{
 "cells": [
  {
   "cell_type": "code",
   "execution_count": 1,
   "metadata": {},
   "outputs": [],
   "source": [
    "import pandas as pd\n",
    "import numpy as np\n",
    "import matplotlib as plt\n",
    "%matplotlib inline\n",
    "from itertools import cycle\n",
    "\n",
    "from sklearn import svm, datasets\n",
    "from sklearn.metrics import roc_curve, auc\n",
    "from sklearn.model_selection import train_test_split\n",
    "from sklearn.preprocessing import label_binarize\n",
    "from sklearn.multiclass import OneVsRestClassifier\n",
    "from sklearn.model_selection import StratifiedKFold\n",
    "from sklearn.preprocessing import LabelEncoder\n",
    "from sklearn.linear_model import LogisticRegression\n",
    "from sklearn.ensemble import RandomForestClassifier\n",
    "from sklearn.tree import DecisionTreeClassifier, export_graphviz\n",
    "from sklearn import metrics\n",
    "from scipy import interp\n",
    "\n",
    "\n",
    "df = pd.read_csv(r\"C:\\Users\\c15167771\\Desktop\\CS4055Assignment\\googleplaystore.csv\")"
   ]
  },
  {
   "cell_type": "code",
   "execution_count": 2,
   "metadata": {},
   "outputs": [
    {
     "data": {
      "text/html": [
       "<div>\n",
       "<style scoped>\n",
       "    .dataframe tbody tr th:only-of-type {\n",
       "        vertical-align: middle;\n",
       "    }\n",
       "\n",
       "    .dataframe tbody tr th {\n",
       "        vertical-align: top;\n",
       "    }\n",
       "\n",
       "    .dataframe thead th {\n",
       "        text-align: right;\n",
       "    }\n",
       "</style>\n",
       "<table border=\"1\" class=\"dataframe\">\n",
       "  <thead>\n",
       "    <tr style=\"text-align: right;\">\n",
       "      <th></th>\n",
       "      <th>App</th>\n",
       "      <th>Category</th>\n",
       "      <th>Rating</th>\n",
       "      <th>Reviews</th>\n",
       "      <th>Size</th>\n",
       "      <th>Installs</th>\n",
       "      <th>Type</th>\n",
       "      <th>Price</th>\n",
       "      <th>Content Rating</th>\n",
       "      <th>Genres</th>\n",
       "      <th>Last Updated</th>\n",
       "      <th>Current Ver</th>\n",
       "      <th>Android Ver</th>\n",
       "    </tr>\n",
       "  </thead>\n",
       "  <tbody>\n",
       "    <tr>\n",
       "      <th>0</th>\n",
       "      <td>Photo Editor &amp; Candy Camera &amp; Grid &amp; ScrapBook</td>\n",
       "      <td>ART_AND_DESIGN</td>\n",
       "      <td>4.1</td>\n",
       "      <td>159</td>\n",
       "      <td>19M</td>\n",
       "      <td>10,000+</td>\n",
       "      <td>Free</td>\n",
       "      <td>0</td>\n",
       "      <td>Everyone</td>\n",
       "      <td>Art &amp; Design</td>\n",
       "      <td>January 7, 2018</td>\n",
       "      <td>1.0.0</td>\n",
       "      <td>4.0.3 and up</td>\n",
       "    </tr>\n",
       "    <tr>\n",
       "      <th>1</th>\n",
       "      <td>Coloring book moana</td>\n",
       "      <td>ART_AND_DESIGN</td>\n",
       "      <td>3.9</td>\n",
       "      <td>967</td>\n",
       "      <td>14M</td>\n",
       "      <td>500,000+</td>\n",
       "      <td>Free</td>\n",
       "      <td>0</td>\n",
       "      <td>Everyone</td>\n",
       "      <td>Art &amp; Design;Pretend Play</td>\n",
       "      <td>January 15, 2018</td>\n",
       "      <td>2.0.0</td>\n",
       "      <td>4.0.3 and up</td>\n",
       "    </tr>\n",
       "    <tr>\n",
       "      <th>2</th>\n",
       "      <td>U Launcher Lite – FREE Live Cool Themes, Hide ...</td>\n",
       "      <td>ART_AND_DESIGN</td>\n",
       "      <td>4.7</td>\n",
       "      <td>87510</td>\n",
       "      <td>8.7M</td>\n",
       "      <td>5,000,000+</td>\n",
       "      <td>Free</td>\n",
       "      <td>0</td>\n",
       "      <td>Everyone</td>\n",
       "      <td>Art &amp; Design</td>\n",
       "      <td>August 1, 2018</td>\n",
       "      <td>1.2.4</td>\n",
       "      <td>4.0.3 and up</td>\n",
       "    </tr>\n",
       "    <tr>\n",
       "      <th>3</th>\n",
       "      <td>Sketch - Draw &amp; Paint</td>\n",
       "      <td>ART_AND_DESIGN</td>\n",
       "      <td>4.5</td>\n",
       "      <td>215644</td>\n",
       "      <td>25M</td>\n",
       "      <td>50,000,000+</td>\n",
       "      <td>Free</td>\n",
       "      <td>0</td>\n",
       "      <td>Teen</td>\n",
       "      <td>Art &amp; Design</td>\n",
       "      <td>June 8, 2018</td>\n",
       "      <td>Varies with device</td>\n",
       "      <td>4.2 and up</td>\n",
       "    </tr>\n",
       "    <tr>\n",
       "      <th>4</th>\n",
       "      <td>Pixel Draw - Number Art Coloring Book</td>\n",
       "      <td>ART_AND_DESIGN</td>\n",
       "      <td>4.3</td>\n",
       "      <td>967</td>\n",
       "      <td>2.8M</td>\n",
       "      <td>100,000+</td>\n",
       "      <td>Free</td>\n",
       "      <td>0</td>\n",
       "      <td>Everyone</td>\n",
       "      <td>Art &amp; Design;Creativity</td>\n",
       "      <td>June 20, 2018</td>\n",
       "      <td>1.1</td>\n",
       "      <td>4.4 and up</td>\n",
       "    </tr>\n",
       "    <tr>\n",
       "      <th>5</th>\n",
       "      <td>Paper flowers instructions</td>\n",
       "      <td>ART_AND_DESIGN</td>\n",
       "      <td>4.4</td>\n",
       "      <td>167</td>\n",
       "      <td>5.6M</td>\n",
       "      <td>50,000+</td>\n",
       "      <td>Free</td>\n",
       "      <td>0</td>\n",
       "      <td>Everyone</td>\n",
       "      <td>Art &amp; Design</td>\n",
       "      <td>March 26, 2017</td>\n",
       "      <td>1</td>\n",
       "      <td>2.3 and up</td>\n",
       "    </tr>\n",
       "    <tr>\n",
       "      <th>6</th>\n",
       "      <td>Smoke Effect Photo Maker - Smoke Editor</td>\n",
       "      <td>ART_AND_DESIGN</td>\n",
       "      <td>3.8</td>\n",
       "      <td>178</td>\n",
       "      <td>19M</td>\n",
       "      <td>50,000+</td>\n",
       "      <td>Free</td>\n",
       "      <td>0</td>\n",
       "      <td>Everyone</td>\n",
       "      <td>Art &amp; Design</td>\n",
       "      <td>April 26, 2018</td>\n",
       "      <td>1.1</td>\n",
       "      <td>4.0.3 and up</td>\n",
       "    </tr>\n",
       "    <tr>\n",
       "      <th>7</th>\n",
       "      <td>Infinite Painter</td>\n",
       "      <td>ART_AND_DESIGN</td>\n",
       "      <td>4.1</td>\n",
       "      <td>36815</td>\n",
       "      <td>29M</td>\n",
       "      <td>1,000,000+</td>\n",
       "      <td>Free</td>\n",
       "      <td>0</td>\n",
       "      <td>Everyone</td>\n",
       "      <td>Art &amp; Design</td>\n",
       "      <td>June 14, 2018</td>\n",
       "      <td>6.1.61.1</td>\n",
       "      <td>4.2 and up</td>\n",
       "    </tr>\n",
       "    <tr>\n",
       "      <th>8</th>\n",
       "      <td>Garden Coloring Book</td>\n",
       "      <td>ART_AND_DESIGN</td>\n",
       "      <td>4.4</td>\n",
       "      <td>13791</td>\n",
       "      <td>33M</td>\n",
       "      <td>1,000,000+</td>\n",
       "      <td>Free</td>\n",
       "      <td>0</td>\n",
       "      <td>Everyone</td>\n",
       "      <td>Art &amp; Design</td>\n",
       "      <td>September 20, 2017</td>\n",
       "      <td>2.9.2</td>\n",
       "      <td>3.0 and up</td>\n",
       "    </tr>\n",
       "    <tr>\n",
       "      <th>9</th>\n",
       "      <td>Kids Paint Free - Drawing Fun</td>\n",
       "      <td>ART_AND_DESIGN</td>\n",
       "      <td>4.7</td>\n",
       "      <td>121</td>\n",
       "      <td>3.1M</td>\n",
       "      <td>10,000+</td>\n",
       "      <td>Free</td>\n",
       "      <td>0</td>\n",
       "      <td>Everyone</td>\n",
       "      <td>Art &amp; Design;Creativity</td>\n",
       "      <td>July 3, 2018</td>\n",
       "      <td>2.8</td>\n",
       "      <td>4.0.3 and up</td>\n",
       "    </tr>\n",
       "    <tr>\n",
       "      <th>10</th>\n",
       "      <td>Text on Photo - Fonteee</td>\n",
       "      <td>ART_AND_DESIGN</td>\n",
       "      <td>4.4</td>\n",
       "      <td>13880</td>\n",
       "      <td>28M</td>\n",
       "      <td>1,000,000+</td>\n",
       "      <td>Free</td>\n",
       "      <td>0</td>\n",
       "      <td>Everyone</td>\n",
       "      <td>Art &amp; Design</td>\n",
       "      <td>October 27, 2017</td>\n",
       "      <td>1.0.4</td>\n",
       "      <td>4.1 and up</td>\n",
       "    </tr>\n",
       "    <tr>\n",
       "      <th>11</th>\n",
       "      <td>Name Art Photo Editor - Focus n Filters</td>\n",
       "      <td>ART_AND_DESIGN</td>\n",
       "      <td>4.4</td>\n",
       "      <td>8788</td>\n",
       "      <td>12M</td>\n",
       "      <td>1,000,000+</td>\n",
       "      <td>Free</td>\n",
       "      <td>0</td>\n",
       "      <td>Everyone</td>\n",
       "      <td>Art &amp; Design</td>\n",
       "      <td>July 31, 2018</td>\n",
       "      <td>1.0.15</td>\n",
       "      <td>4.0 and up</td>\n",
       "    </tr>\n",
       "    <tr>\n",
       "      <th>12</th>\n",
       "      <td>Tattoo Name On My Photo Editor</td>\n",
       "      <td>ART_AND_DESIGN</td>\n",
       "      <td>4.2</td>\n",
       "      <td>44829</td>\n",
       "      <td>20M</td>\n",
       "      <td>10,000,000+</td>\n",
       "      <td>Free</td>\n",
       "      <td>0</td>\n",
       "      <td>Teen</td>\n",
       "      <td>Art &amp; Design</td>\n",
       "      <td>April 2, 2018</td>\n",
       "      <td>3.8</td>\n",
       "      <td>4.1 and up</td>\n",
       "    </tr>\n",
       "    <tr>\n",
       "      <th>13</th>\n",
       "      <td>Mandala Coloring Book</td>\n",
       "      <td>ART_AND_DESIGN</td>\n",
       "      <td>4.6</td>\n",
       "      <td>4326</td>\n",
       "      <td>21M</td>\n",
       "      <td>100,000+</td>\n",
       "      <td>Free</td>\n",
       "      <td>0</td>\n",
       "      <td>Everyone</td>\n",
       "      <td>Art &amp; Design</td>\n",
       "      <td>June 26, 2018</td>\n",
       "      <td>1.0.4</td>\n",
       "      <td>4.4 and up</td>\n",
       "    </tr>\n",
       "    <tr>\n",
       "      <th>14</th>\n",
       "      <td>3D Color Pixel by Number - Sandbox Art Coloring</td>\n",
       "      <td>ART_AND_DESIGN</td>\n",
       "      <td>4.4</td>\n",
       "      <td>1518</td>\n",
       "      <td>37M</td>\n",
       "      <td>100,000+</td>\n",
       "      <td>Free</td>\n",
       "      <td>0</td>\n",
       "      <td>Everyone</td>\n",
       "      <td>Art &amp; Design</td>\n",
       "      <td>August 3, 2018</td>\n",
       "      <td>1.2.3</td>\n",
       "      <td>2.3 and up</td>\n",
       "    </tr>\n",
       "  </tbody>\n",
       "</table>\n",
       "</div>"
      ],
      "text/plain": [
       "                                                  App        Category  Rating  \\\n",
       "0      Photo Editor & Candy Camera & Grid & ScrapBook  ART_AND_DESIGN     4.1   \n",
       "1                                 Coloring book moana  ART_AND_DESIGN     3.9   \n",
       "2   U Launcher Lite – FREE Live Cool Themes, Hide ...  ART_AND_DESIGN     4.7   \n",
       "3                               Sketch - Draw & Paint  ART_AND_DESIGN     4.5   \n",
       "4               Pixel Draw - Number Art Coloring Book  ART_AND_DESIGN     4.3   \n",
       "5                          Paper flowers instructions  ART_AND_DESIGN     4.4   \n",
       "6             Smoke Effect Photo Maker - Smoke Editor  ART_AND_DESIGN     3.8   \n",
       "7                                    Infinite Painter  ART_AND_DESIGN     4.1   \n",
       "8                                Garden Coloring Book  ART_AND_DESIGN     4.4   \n",
       "9                       Kids Paint Free - Drawing Fun  ART_AND_DESIGN     4.7   \n",
       "10                            Text on Photo - Fonteee  ART_AND_DESIGN     4.4   \n",
       "11            Name Art Photo Editor - Focus n Filters  ART_AND_DESIGN     4.4   \n",
       "12                     Tattoo Name On My Photo Editor  ART_AND_DESIGN     4.2   \n",
       "13                              Mandala Coloring Book  ART_AND_DESIGN     4.6   \n",
       "14    3D Color Pixel by Number - Sandbox Art Coloring  ART_AND_DESIGN     4.4   \n",
       "\n",
       "    Reviews  Size     Installs  Type Price Content Rating  \\\n",
       "0       159   19M      10,000+  Free     0       Everyone   \n",
       "1       967   14M     500,000+  Free     0       Everyone   \n",
       "2     87510  8.7M   5,000,000+  Free     0       Everyone   \n",
       "3    215644   25M  50,000,000+  Free     0           Teen   \n",
       "4       967  2.8M     100,000+  Free     0       Everyone   \n",
       "5       167  5.6M      50,000+  Free     0       Everyone   \n",
       "6       178   19M      50,000+  Free     0       Everyone   \n",
       "7     36815   29M   1,000,000+  Free     0       Everyone   \n",
       "8     13791   33M   1,000,000+  Free     0       Everyone   \n",
       "9       121  3.1M      10,000+  Free     0       Everyone   \n",
       "10    13880   28M   1,000,000+  Free     0       Everyone   \n",
       "11     8788   12M   1,000,000+  Free     0       Everyone   \n",
       "12    44829   20M  10,000,000+  Free     0           Teen   \n",
       "13     4326   21M     100,000+  Free     0       Everyone   \n",
       "14     1518   37M     100,000+  Free     0       Everyone   \n",
       "\n",
       "                       Genres        Last Updated         Current Ver  \\\n",
       "0                Art & Design     January 7, 2018               1.0.0   \n",
       "1   Art & Design;Pretend Play    January 15, 2018               2.0.0   \n",
       "2                Art & Design      August 1, 2018               1.2.4   \n",
       "3                Art & Design        June 8, 2018  Varies with device   \n",
       "4     Art & Design;Creativity       June 20, 2018                 1.1   \n",
       "5                Art & Design      March 26, 2017                   1   \n",
       "6                Art & Design      April 26, 2018                 1.1   \n",
       "7                Art & Design       June 14, 2018            6.1.61.1   \n",
       "8                Art & Design  September 20, 2017               2.9.2   \n",
       "9     Art & Design;Creativity        July 3, 2018                 2.8   \n",
       "10               Art & Design    October 27, 2017               1.0.4   \n",
       "11               Art & Design       July 31, 2018              1.0.15   \n",
       "12               Art & Design       April 2, 2018                 3.8   \n",
       "13               Art & Design       June 26, 2018               1.0.4   \n",
       "14               Art & Design      August 3, 2018               1.2.3   \n",
       "\n",
       "     Android Ver  \n",
       "0   4.0.3 and up  \n",
       "1   4.0.3 and up  \n",
       "2   4.0.3 and up  \n",
       "3     4.2 and up  \n",
       "4     4.4 and up  \n",
       "5     2.3 and up  \n",
       "6   4.0.3 and up  \n",
       "7     4.2 and up  \n",
       "8     3.0 and up  \n",
       "9   4.0.3 and up  \n",
       "10    4.1 and up  \n",
       "11    4.0 and up  \n",
       "12    4.1 and up  \n",
       "13    4.4 and up  \n",
       "14    2.3 and up  "
      ]
     },
     "execution_count": 2,
     "metadata": {},
     "output_type": "execute_result"
    }
   ],
   "source": [
    "df.head(15)"
   ]
  },
  {
   "cell_type": "code",
   "execution_count": 3,
   "metadata": {},
   "outputs": [
    {
     "data": {
      "text/html": [
       "<div>\n",
       "<style scoped>\n",
       "    .dataframe tbody tr th:only-of-type {\n",
       "        vertical-align: middle;\n",
       "    }\n",
       "\n",
       "    .dataframe tbody tr th {\n",
       "        vertical-align: top;\n",
       "    }\n",
       "\n",
       "    .dataframe thead th {\n",
       "        text-align: right;\n",
       "    }\n",
       "</style>\n",
       "<table border=\"1\" class=\"dataframe\">\n",
       "  <thead>\n",
       "    <tr style=\"text-align: right;\">\n",
       "      <th></th>\n",
       "      <th>Rating</th>\n",
       "      <th>Reviews</th>\n",
       "    </tr>\n",
       "  </thead>\n",
       "  <tbody>\n",
       "    <tr>\n",
       "      <th>count</th>\n",
       "      <td>9366.000000</td>\n",
       "      <td>1.084000e+04</td>\n",
       "    </tr>\n",
       "    <tr>\n",
       "      <th>mean</th>\n",
       "      <td>4.191757</td>\n",
       "      <td>4.441529e+05</td>\n",
       "    </tr>\n",
       "    <tr>\n",
       "      <th>std</th>\n",
       "      <td>0.515219</td>\n",
       "      <td>2.927761e+06</td>\n",
       "    </tr>\n",
       "    <tr>\n",
       "      <th>min</th>\n",
       "      <td>1.000000</td>\n",
       "      <td>0.000000e+00</td>\n",
       "    </tr>\n",
       "    <tr>\n",
       "      <th>25%</th>\n",
       "      <td>4.000000</td>\n",
       "      <td>3.800000e+01</td>\n",
       "    </tr>\n",
       "    <tr>\n",
       "      <th>50%</th>\n",
       "      <td>4.300000</td>\n",
       "      <td>2.094000e+03</td>\n",
       "    </tr>\n",
       "    <tr>\n",
       "      <th>75%</th>\n",
       "      <td>4.500000</td>\n",
       "      <td>5.477550e+04</td>\n",
       "    </tr>\n",
       "    <tr>\n",
       "      <th>max</th>\n",
       "      <td>5.000000</td>\n",
       "      <td>7.815831e+07</td>\n",
       "    </tr>\n",
       "  </tbody>\n",
       "</table>\n",
       "</div>"
      ],
      "text/plain": [
       "            Rating       Reviews\n",
       "count  9366.000000  1.084000e+04\n",
       "mean      4.191757  4.441529e+05\n",
       "std       0.515219  2.927761e+06\n",
       "min       1.000000  0.000000e+00\n",
       "25%       4.000000  3.800000e+01\n",
       "50%       4.300000  2.094000e+03\n",
       "75%       4.500000  5.477550e+04\n",
       "max       5.000000  7.815831e+07"
      ]
     },
     "execution_count": 3,
     "metadata": {},
     "output_type": "execute_result"
    }
   ],
   "source": [
    "df.describe()"
   ]
  },
  {
   "cell_type": "code",
   "execution_count": 4,
   "metadata": {},
   "outputs": [
    {
     "data": {
      "text/html": [
       "<div>\n",
       "<style scoped>\n",
       "    .dataframe tbody tr th:only-of-type {\n",
       "        vertical-align: middle;\n",
       "    }\n",
       "\n",
       "    .dataframe tbody tr th {\n",
       "        vertical-align: top;\n",
       "    }\n",
       "\n",
       "    .dataframe thead th {\n",
       "        text-align: right;\n",
       "    }\n",
       "</style>\n",
       "<table border=\"1\" class=\"dataframe\">\n",
       "  <thead>\n",
       "    <tr style=\"text-align: right;\">\n",
       "      <th></th>\n",
       "      <th>App</th>\n",
       "      <th>Category</th>\n",
       "      <th>Rating</th>\n",
       "      <th>Reviews</th>\n",
       "      <th>Size</th>\n",
       "      <th>Installs</th>\n",
       "      <th>Type</th>\n",
       "      <th>Price</th>\n",
       "      <th>Content Rating</th>\n",
       "      <th>Genres</th>\n",
       "      <th>Last Updated</th>\n",
       "      <th>Current Ver</th>\n",
       "      <th>Android Ver</th>\n",
       "    </tr>\n",
       "  </thead>\n",
       "  <tbody>\n",
       "    <tr>\n",
       "      <th>count</th>\n",
       "      <td>10840</td>\n",
       "      <td>10840</td>\n",
       "      <td>9366.000000</td>\n",
       "      <td>1.084000e+04</td>\n",
       "      <td>10840</td>\n",
       "      <td>10840</td>\n",
       "      <td>10839</td>\n",
       "      <td>10840</td>\n",
       "      <td>10840</td>\n",
       "      <td>10840</td>\n",
       "      <td>10840</td>\n",
       "      <td>10832</td>\n",
       "      <td>10838</td>\n",
       "    </tr>\n",
       "    <tr>\n",
       "      <th>unique</th>\n",
       "      <td>9659</td>\n",
       "      <td>33</td>\n",
       "      <td>NaN</td>\n",
       "      <td>NaN</td>\n",
       "      <td>461</td>\n",
       "      <td>21</td>\n",
       "      <td>2</td>\n",
       "      <td>92</td>\n",
       "      <td>6</td>\n",
       "      <td>119</td>\n",
       "      <td>1377</td>\n",
       "      <td>2783</td>\n",
       "      <td>33</td>\n",
       "    </tr>\n",
       "    <tr>\n",
       "      <th>top</th>\n",
       "      <td>ROBLOX</td>\n",
       "      <td>FAMILY</td>\n",
       "      <td>NaN</td>\n",
       "      <td>NaN</td>\n",
       "      <td>Varies with device</td>\n",
       "      <td>1,000,000+</td>\n",
       "      <td>Free</td>\n",
       "      <td>0</td>\n",
       "      <td>Everyone</td>\n",
       "      <td>Tools</td>\n",
       "      <td>August 3, 2018</td>\n",
       "      <td>Varies with device</td>\n",
       "      <td>4.1 and up</td>\n",
       "    </tr>\n",
       "    <tr>\n",
       "      <th>freq</th>\n",
       "      <td>9</td>\n",
       "      <td>1972</td>\n",
       "      <td>NaN</td>\n",
       "      <td>NaN</td>\n",
       "      <td>1695</td>\n",
       "      <td>1579</td>\n",
       "      <td>10039</td>\n",
       "      <td>10040</td>\n",
       "      <td>8714</td>\n",
       "      <td>842</td>\n",
       "      <td>326</td>\n",
       "      <td>1459</td>\n",
       "      <td>2451</td>\n",
       "    </tr>\n",
       "    <tr>\n",
       "      <th>mean</th>\n",
       "      <td>NaN</td>\n",
       "      <td>NaN</td>\n",
       "      <td>4.191757</td>\n",
       "      <td>4.441529e+05</td>\n",
       "      <td>NaN</td>\n",
       "      <td>NaN</td>\n",
       "      <td>NaN</td>\n",
       "      <td>NaN</td>\n",
       "      <td>NaN</td>\n",
       "      <td>NaN</td>\n",
       "      <td>NaN</td>\n",
       "      <td>NaN</td>\n",
       "      <td>NaN</td>\n",
       "    </tr>\n",
       "    <tr>\n",
       "      <th>std</th>\n",
       "      <td>NaN</td>\n",
       "      <td>NaN</td>\n",
       "      <td>0.515219</td>\n",
       "      <td>2.927761e+06</td>\n",
       "      <td>NaN</td>\n",
       "      <td>NaN</td>\n",
       "      <td>NaN</td>\n",
       "      <td>NaN</td>\n",
       "      <td>NaN</td>\n",
       "      <td>NaN</td>\n",
       "      <td>NaN</td>\n",
       "      <td>NaN</td>\n",
       "      <td>NaN</td>\n",
       "    </tr>\n",
       "    <tr>\n",
       "      <th>min</th>\n",
       "      <td>NaN</td>\n",
       "      <td>NaN</td>\n",
       "      <td>1.000000</td>\n",
       "      <td>0.000000e+00</td>\n",
       "      <td>NaN</td>\n",
       "      <td>NaN</td>\n",
       "      <td>NaN</td>\n",
       "      <td>NaN</td>\n",
       "      <td>NaN</td>\n",
       "      <td>NaN</td>\n",
       "      <td>NaN</td>\n",
       "      <td>NaN</td>\n",
       "      <td>NaN</td>\n",
       "    </tr>\n",
       "    <tr>\n",
       "      <th>25%</th>\n",
       "      <td>NaN</td>\n",
       "      <td>NaN</td>\n",
       "      <td>4.000000</td>\n",
       "      <td>3.800000e+01</td>\n",
       "      <td>NaN</td>\n",
       "      <td>NaN</td>\n",
       "      <td>NaN</td>\n",
       "      <td>NaN</td>\n",
       "      <td>NaN</td>\n",
       "      <td>NaN</td>\n",
       "      <td>NaN</td>\n",
       "      <td>NaN</td>\n",
       "      <td>NaN</td>\n",
       "    </tr>\n",
       "    <tr>\n",
       "      <th>50%</th>\n",
       "      <td>NaN</td>\n",
       "      <td>NaN</td>\n",
       "      <td>4.300000</td>\n",
       "      <td>2.094000e+03</td>\n",
       "      <td>NaN</td>\n",
       "      <td>NaN</td>\n",
       "      <td>NaN</td>\n",
       "      <td>NaN</td>\n",
       "      <td>NaN</td>\n",
       "      <td>NaN</td>\n",
       "      <td>NaN</td>\n",
       "      <td>NaN</td>\n",
       "      <td>NaN</td>\n",
       "    </tr>\n",
       "    <tr>\n",
       "      <th>75%</th>\n",
       "      <td>NaN</td>\n",
       "      <td>NaN</td>\n",
       "      <td>4.500000</td>\n",
       "      <td>5.477550e+04</td>\n",
       "      <td>NaN</td>\n",
       "      <td>NaN</td>\n",
       "      <td>NaN</td>\n",
       "      <td>NaN</td>\n",
       "      <td>NaN</td>\n",
       "      <td>NaN</td>\n",
       "      <td>NaN</td>\n",
       "      <td>NaN</td>\n",
       "      <td>NaN</td>\n",
       "    </tr>\n",
       "    <tr>\n",
       "      <th>max</th>\n",
       "      <td>NaN</td>\n",
       "      <td>NaN</td>\n",
       "      <td>5.000000</td>\n",
       "      <td>7.815831e+07</td>\n",
       "      <td>NaN</td>\n",
       "      <td>NaN</td>\n",
       "      <td>NaN</td>\n",
       "      <td>NaN</td>\n",
       "      <td>NaN</td>\n",
       "      <td>NaN</td>\n",
       "      <td>NaN</td>\n",
       "      <td>NaN</td>\n",
       "      <td>NaN</td>\n",
       "    </tr>\n",
       "  </tbody>\n",
       "</table>\n",
       "</div>"
      ],
      "text/plain": [
       "           App Category       Rating       Reviews                Size  \\\n",
       "count    10840    10840  9366.000000  1.084000e+04               10840   \n",
       "unique    9659       33          NaN           NaN                 461   \n",
       "top     ROBLOX   FAMILY          NaN           NaN  Varies with device   \n",
       "freq         9     1972          NaN           NaN                1695   \n",
       "mean       NaN      NaN     4.191757  4.441529e+05                 NaN   \n",
       "std        NaN      NaN     0.515219  2.927761e+06                 NaN   \n",
       "min        NaN      NaN     1.000000  0.000000e+00                 NaN   \n",
       "25%        NaN      NaN     4.000000  3.800000e+01                 NaN   \n",
       "50%        NaN      NaN     4.300000  2.094000e+03                 NaN   \n",
       "75%        NaN      NaN     4.500000  5.477550e+04                 NaN   \n",
       "max        NaN      NaN     5.000000  7.815831e+07                 NaN   \n",
       "\n",
       "          Installs   Type  Price Content Rating Genres    Last Updated  \\\n",
       "count        10840  10839  10840          10840  10840           10840   \n",
       "unique          21      2     92              6    119            1377   \n",
       "top     1,000,000+   Free      0       Everyone  Tools  August 3, 2018   \n",
       "freq          1579  10039  10040           8714    842             326   \n",
       "mean           NaN    NaN    NaN            NaN    NaN             NaN   \n",
       "std            NaN    NaN    NaN            NaN    NaN             NaN   \n",
       "min            NaN    NaN    NaN            NaN    NaN             NaN   \n",
       "25%            NaN    NaN    NaN            NaN    NaN             NaN   \n",
       "50%            NaN    NaN    NaN            NaN    NaN             NaN   \n",
       "75%            NaN    NaN    NaN            NaN    NaN             NaN   \n",
       "max            NaN    NaN    NaN            NaN    NaN             NaN   \n",
       "\n",
       "               Current Ver Android Ver  \n",
       "count                10832       10838  \n",
       "unique                2783          33  \n",
       "top     Varies with device  4.1 and up  \n",
       "freq                  1459        2451  \n",
       "mean                   NaN         NaN  \n",
       "std                    NaN         NaN  \n",
       "min                    NaN         NaN  \n",
       "25%                    NaN         NaN  \n",
       "50%                    NaN         NaN  \n",
       "75%                    NaN         NaN  \n",
       "max                    NaN         NaN  "
      ]
     },
     "execution_count": 4,
     "metadata": {},
     "output_type": "execute_result"
    }
   ],
   "source": [
    "df.describe(include='all')"
   ]
  },
  {
   "cell_type": "code",
   "execution_count": 5,
   "metadata": {},
   "outputs": [
    {
     "data": {
      "text/plain": [
       "ROBLOX                                                9\n",
       "CBS Sports App - Scores, News, Stats & Watch Live     8\n",
       "ESPN                                                  7\n",
       "Candy Crush Saga                                      7\n",
       "8 Ball Pool                                           7\n",
       "Duolingo: Learn Languages Free                        7\n",
       "Bleacher Report: sports news, scores, & highlights    6\n",
       "Sniper 3D Gun Shooter: Free Shooting Games - FPS      6\n",
       "Bubble Shooter                                        6\n",
       "Zombie Catchers                                       6\n",
       "Subway Surfers                                        6\n",
       "slither.io                                            6\n",
       "Helix Jump                                            6\n",
       "Temple Run 2                                          6\n",
       "Bowmasters                                            6\n",
       "Nick                                                  6\n",
       "Zombie Tsunami                                        5\n",
       "Netflix                                               5\n",
       "Viber Messenger                                       5\n",
       "BeautyPlus - Easy Photo Editor & Selfie Camera        5\n",
       "MeetMe: Chat & Meet New People                        5\n",
       "MLB At Bat                                            5\n",
       "Yahoo Fantasy Sports - #1 Rated Fantasy App           5\n",
       "Angry Birds Classic                                   5\n",
       "Calorie Counter - MyFitnessPal                        5\n",
       "Flow Free                                             5\n",
       "theScore: Live Sports Scores, News, Stats & Videos    5\n",
       "Wish - Shopping Made Fun                              5\n",
       "Granny                                                5\n",
       "TripAdvisor Hotels Flights Restaurants Attractions    5\n",
       "                                                     ..\n",
       "EO Events                                             1\n",
       "Pocket Little Pony                                    1\n",
       "Manga Zero - Japanese cartoon and comic reader        1\n",
       "Roland DG Mobile Panel                                1\n",
       "Bubble Witch 2 Saga                                   1\n",
       "Calculator ++                                         1\n",
       "FA Player Essentials                                  1\n",
       "Instabridge - Free WiFi Passwords and Hotspots        1\n",
       "Coupon Mob - Discount Coupons                         1\n",
       "3D Metal Piano Keys Keyboard Theme                    1\n",
       "DK 15 Minute Language Course                          1\n",
       "Family GPS tracker KidControl + GPS by SMS Locator    1\n",
       "9th stage                                             1\n",
       "Asphalt Xtreme: Rally Racing                          1\n",
       "Oración CX                                            1\n",
       "AJ Percent Off Calculator                             1\n",
       "Girls' Frontline                                      1\n",
       "First Federal Bank of Florida                         1\n",
       "AP® Guide                                             1\n",
       "Monster Ride Pro                                      1\n",
       "Yahoo Finance                                         1\n",
       "SleepyTime: Bedtime Calculator                        1\n",
       "FD e-paper                                            1\n",
       "UP EB Bill Payment & Details                          1\n",
       "NetApp CE                                             1\n",
       "Thomas & Friends: Go Go Thomas                        1\n",
       "HD Video Downloader : 2018 Best video mate            1\n",
       "DV KING                                               1\n",
       "Sound Recorder: Recorder & Voice Changer Free         1\n",
       "Ringtones & Wallpapers for Me                         1\n",
       "Name: App, Length: 9659, dtype: int64"
      ]
     },
     "execution_count": 5,
     "metadata": {},
     "output_type": "execute_result"
    }
   ],
   "source": [
    "df['App'].value_counts()"
   ]
  },
  {
   "cell_type": "code",
   "execution_count": 6,
   "metadata": {},
   "outputs": [
    {
     "data": {
      "text/plain": [
       "FAMILY                 1972\n",
       "GAME                   1144\n",
       "TOOLS                   843\n",
       "MEDICAL                 463\n",
       "BUSINESS                460\n",
       "PRODUCTIVITY            424\n",
       "PERSONALIZATION         392\n",
       "COMMUNICATION           387\n",
       "SPORTS                  384\n",
       "LIFESTYLE               382\n",
       "FINANCE                 366\n",
       "HEALTH_AND_FITNESS      341\n",
       "PHOTOGRAPHY             335\n",
       "SOCIAL                  295\n",
       "NEWS_AND_MAGAZINES      283\n",
       "SHOPPING                260\n",
       "TRAVEL_AND_LOCAL        258\n",
       "DATING                  234\n",
       "BOOKS_AND_REFERENCE     231\n",
       "VIDEO_PLAYERS           175\n",
       "EDUCATION               156\n",
       "ENTERTAINMENT           149\n",
       "MAPS_AND_NAVIGATION     137\n",
       "FOOD_AND_DRINK          127\n",
       "HOUSE_AND_HOME           88\n",
       "LIBRARIES_AND_DEMO       85\n",
       "AUTO_AND_VEHICLES        85\n",
       "WEATHER                  82\n",
       "ART_AND_DESIGN           65\n",
       "EVENTS                   64\n",
       "COMICS                   60\n",
       "PARENTING                60\n",
       "BEAUTY                   53\n",
       "Name: Category, dtype: int64"
      ]
     },
     "execution_count": 6,
     "metadata": {},
     "output_type": "execute_result"
    }
   ],
   "source": [
    "df['Category'].value_counts()"
   ]
  },
  {
   "cell_type": "code",
   "execution_count": 7,
   "metadata": {},
   "outputs": [
    {
     "data": {
      "text/plain": [
       "Varies with device    1695\n",
       "11M                    198\n",
       "12M                    196\n",
       "14M                    194\n",
       "13M                    191\n",
       "15M                    184\n",
       "17M                    160\n",
       "19M                    154\n",
       "26M                    149\n",
       "16M                    149\n",
       "25M                    143\n",
       "20M                    139\n",
       "21M                    138\n",
       "10M                    136\n",
       "24M                    136\n",
       "18M                    133\n",
       "23M                    117\n",
       "22M                    114\n",
       "29M                    103\n",
       "27M                     97\n",
       "28M                     95\n",
       "30M                     84\n",
       "33M                     79\n",
       "3.3M                    77\n",
       "37M                     76\n",
       "35M                     72\n",
       "31M                     70\n",
       "2.9M                    69\n",
       "2.5M                    68\n",
       "2.3M                    68\n",
       "                      ... \n",
       "25k                      1\n",
       "811k                     1\n",
       "980k                     1\n",
       "642k                     1\n",
       "383k                     1\n",
       "293k                     1\n",
       "169k                     1\n",
       "954k                     1\n",
       "153k                     1\n",
       "220k                     1\n",
       "241k                     1\n",
       "857k                     1\n",
       "253k                     1\n",
       "683k                     1\n",
       "73k                      1\n",
       "514k                     1\n",
       "626k                     1\n",
       "20k                      1\n",
       "582k                     1\n",
       "562k                     1\n",
       "444k                     1\n",
       "313k                     1\n",
       "754k                     1\n",
       "378k                     1\n",
       "785k                     1\n",
       "688k                     1\n",
       "963k                     1\n",
       "942k                     1\n",
       "879k                     1\n",
       "412k                     1\n",
       "Name: Size, Length: 461, dtype: int64"
      ]
     },
     "execution_count": 7,
     "metadata": {},
     "output_type": "execute_result"
    }
   ],
   "source": [
    "df['Size'].value_counts()"
   ]
  },
  {
   "cell_type": "code",
   "execution_count": 8,
   "metadata": {},
   "outputs": [
    {
     "data": {
      "text/plain": [
       "1,000,000+        1579\n",
       "10,000,000+       1252\n",
       "100,000+          1169\n",
       "10,000+           1054\n",
       "1,000+             907\n",
       "5,000,000+         752\n",
       "100+               719\n",
       "500,000+           539\n",
       "50,000+            479\n",
       "5,000+             477\n",
       "100,000,000+       409\n",
       "10+                386\n",
       "500+               330\n",
       "50,000,000+        289\n",
       "50+                205\n",
       "5+                  82\n",
       "500,000,000+        72\n",
       "1+                  67\n",
       "1,000,000,000+      58\n",
       "0+                  14\n",
       "0                    1\n",
       "Name: Installs, dtype: int64"
      ]
     },
     "execution_count": 8,
     "metadata": {},
     "output_type": "execute_result"
    }
   ],
   "source": [
    "df['Installs'].value_counts()"
   ]
  },
  {
   "cell_type": "code",
   "execution_count": 9,
   "metadata": {},
   "outputs": [
    {
     "data": {
      "text/plain": [
       "0          10040\n",
       "$0.99        148\n",
       "$2.99        129\n",
       "$1.99         73\n",
       "$4.99         72\n",
       "$3.99         63\n",
       "$1.49         46\n",
       "$5.99         30\n",
       "$2.49         26\n",
       "$9.99         21\n",
       "$6.99         13\n",
       "$399.99       12\n",
       "$14.99        11\n",
       "$4.49          9\n",
       "$3.49          7\n",
       "$7.99          7\n",
       "$24.99         7\n",
       "$29.99         7\n",
       "$19.99         6\n",
       "$5.49          6\n",
       "$12.99         5\n",
       "$8.99          5\n",
       "$11.99         5\n",
       "$6.49          5\n",
       "$2.00          3\n",
       "$10.00         3\n",
       "$1.00          3\n",
       "$16.99         3\n",
       "$3.95          2\n",
       "$1.70          2\n",
       "           ...  \n",
       "$1.61          1\n",
       "$4.60          1\n",
       "$400.00        1\n",
       "$74.99         1\n",
       "$200.00        1\n",
       "$2.60          1\n",
       "$3.02          1\n",
       "$3.04          1\n",
       "$2.95          1\n",
       "$154.99        1\n",
       "$3.28          1\n",
       "$4.59          1\n",
       "$1.29          1\n",
       "$89.99         1\n",
       "$4.85          1\n",
       "$3.61          1\n",
       "$1.26          1\n",
       "$19.90         1\n",
       "$389.99        1\n",
       "$5.00          1\n",
       "$2.56          1\n",
       "$1.20          1\n",
       "$19.40         1\n",
       "$1.96          1\n",
       "$379.99        1\n",
       "$3.88          1\n",
       "$1.97          1\n",
       "$28.99         1\n",
       "$1.50          1\n",
       "$2.59          1\n",
       "Name: Price, Length: 92, dtype: int64"
      ]
     },
     "execution_count": 9,
     "metadata": {},
     "output_type": "execute_result"
    }
   ],
   "source": [
    "df['Price'].value_counts()"
   ]
  },
  {
   "cell_type": "code",
   "execution_count": 10,
   "metadata": {},
   "outputs": [
    {
     "data": {
      "text/plain": [
       "Everyone           8714\n",
       "Teen               1208\n",
       "Mature 17+          499\n",
       "Everyone 10+        414\n",
       "Adults only 18+       3\n",
       "Unrated               2\n",
       "Name: Content Rating, dtype: int64"
      ]
     },
     "execution_count": 10,
     "metadata": {},
     "output_type": "execute_result"
    }
   ],
   "source": [
    "df['Content Rating'].value_counts()"
   ]
  },
  {
   "cell_type": "code",
   "execution_count": 11,
   "metadata": {},
   "outputs": [
    {
     "data": {
      "text/plain": [
       "Tools                                  842\n",
       "Entertainment                          623\n",
       "Education                              549\n",
       "Medical                                463\n",
       "Business                               460\n",
       "Productivity                           424\n",
       "Sports                                 398\n",
       "Personalization                        392\n",
       "Communication                          387\n",
       "Lifestyle                              381\n",
       "Finance                                366\n",
       "Action                                 365\n",
       "Health & Fitness                       341\n",
       "Photography                            335\n",
       "Social                                 295\n",
       "News & Magazines                       283\n",
       "Shopping                               260\n",
       "Travel & Local                         257\n",
       "Dating                                 234\n",
       "Books & Reference                      231\n",
       "Arcade                                 220\n",
       "Simulation                             200\n",
       "Casual                                 193\n",
       "Video Players & Editors                173\n",
       "Puzzle                                 140\n",
       "Maps & Navigation                      137\n",
       "Food & Drink                           127\n",
       "Role Playing                           109\n",
       "Strategy                               107\n",
       "Racing                                  98\n",
       "                                      ... \n",
       "Books & Reference;Education              2\n",
       "Strategy;Action & Adventure              2\n",
       "Casual;Music & Video                     2\n",
       "Entertainment;Pretend Play               2\n",
       "Video Players & Editors;Creativity       2\n",
       "Adventure;Education                      2\n",
       "Card;Action & Adventure                  2\n",
       "Travel & Local;Action & Adventure        1\n",
       "Role Playing;Brain Games                 1\n",
       "Lifestyle;Education                      1\n",
       "Comics;Creativity                        1\n",
       "Health & Fitness;Education               1\n",
       "Puzzle;Education                         1\n",
       "Tools;Education                          1\n",
       "Adventure;Brain Games                    1\n",
       "Board;Pretend Play                       1\n",
       "Strategy;Creativity                      1\n",
       "Lifestyle;Pretend Play                   1\n",
       "Books & Reference;Creativity             1\n",
       "Communication;Creativity                 1\n",
       "Strategy;Education                       1\n",
       "Role Playing;Education                   1\n",
       "Parenting;Brain Games                    1\n",
       "Entertainment;Education                  1\n",
       "Trivia;Education                         1\n",
       "Health & Fitness;Action & Adventure      1\n",
       "Card;Brain Games                         1\n",
       "Arcade;Pretend Play                      1\n",
       "Racing;Pretend Play                      1\n",
       "Music & Audio;Music & Video              1\n",
       "Name: Genres, Length: 119, dtype: int64"
      ]
     },
     "execution_count": 11,
     "metadata": {},
     "output_type": "execute_result"
    }
   ],
   "source": [
    "df['Genres'].value_counts()"
   ]
  },
  {
   "cell_type": "code",
   "execution_count": 12,
   "metadata": {},
   "outputs": [
    {
     "data": {
      "text/plain": [
       "August 3, 2018        326\n",
       "August 2, 2018        304\n",
       "July 31, 2018         294\n",
       "August 1, 2018        285\n",
       "July 30, 2018         211\n",
       "July 25, 2018         164\n",
       "July 26, 2018         161\n",
       "August 6, 2018        158\n",
       "July 27, 2018         151\n",
       "July 24, 2018         148\n",
       "July 23, 2018         127\n",
       "July 16, 2018         126\n",
       "July 19, 2018         126\n",
       "July 18, 2018         123\n",
       "July 11, 2018         106\n",
       "August 4, 2018        105\n",
       "July 12, 2018         103\n",
       "July 5, 2018           93\n",
       "July 17, 2018          92\n",
       "July 3, 2018           90\n",
       "July 9, 2018           89\n",
       "July 20, 2018          88\n",
       "July 13, 2018          81\n",
       "May 24, 2018           69\n",
       "June 27, 2018          63\n",
       "July 6, 2018           63\n",
       "June 26, 2018          60\n",
       "May 25, 2018           56\n",
       "June 25, 2018          56\n",
       "June 13, 2018          54\n",
       "                     ... \n",
       "November 9, 2014        1\n",
       "July 7, 2015            1\n",
       "January 17, 2012        1\n",
       "October 29, 2014        1\n",
       "August 10, 2013         1\n",
       "March 31, 2015          1\n",
       "February 17, 2014       1\n",
       "April 11, 2014          1\n",
       "July 2, 2015            1\n",
       "March 22, 2015          1\n",
       "April 11, 2016          1\n",
       "May 14, 2017            1\n",
       "February 13, 2014       1\n",
       "September 29, 2015      1\n",
       "November 25, 2014       1\n",
       "June 10, 2016           1\n",
       "August 17, 2014         1\n",
       "January 20, 2014        1\n",
       "November 11, 2017       1\n",
       "April 25, 2014          1\n",
       "February 6, 2014        1\n",
       "September 26, 2016      1\n",
       "May 6, 2014             1\n",
       "April 19, 2016          1\n",
       "May 2, 2015             1\n",
       "November 4, 2014        1\n",
       "February 23, 2016       1\n",
       "May 16, 2015            1\n",
       "November 5, 2015        1\n",
       "June 12, 2013           1\n",
       "Name: Last Updated, Length: 1377, dtype: int64"
      ]
     },
     "execution_count": 12,
     "metadata": {},
     "output_type": "execute_result"
    }
   ],
   "source": [
    "df['Last Updated'].value_counts()"
   ]
  },
  {
   "cell_type": "code",
   "execution_count": 13,
   "metadata": {},
   "outputs": [
    {
     "data": {
      "text/plain": [
       "Varies with device    1459\n",
       "1                      842\n",
       "1.1                    276\n",
       "1.2                    185\n",
       "2                      165\n",
       "1.3                    145\n",
       "1.0.0                  136\n",
       "1.0.1                  119\n",
       "1.4                     93\n",
       "1.5                     84\n",
       "1.0.2                   80\n",
       "2.1                     67\n",
       "3                       66\n",
       "1.6                     66\n",
       "1.0.3                   62\n",
       "1.0.4                   58\n",
       "1.7                     54\n",
       "2.0.0                   51\n",
       "1.0.5                   50\n",
       "1.1.0                   49\n",
       "1.1.1                   48\n",
       "1.0.6                   47\n",
       "1.2.1                   46\n",
       "4                       44\n",
       "1.2.0                   43\n",
       "1.8                     42\n",
       "1.9                     37\n",
       "2.3.2                   35\n",
       "2.4                     35\n",
       "2.2                     35\n",
       "                      ... \n",
       "1.0-a22936.127           1\n",
       "7.0.0                    1\n",
       "2.5.1.7592               1\n",
       "5.51                     1\n",
       "10.9.8 (Play)            1\n",
       "4.0.14                   1\n",
       "4.435                    1\n",
       "3.19.35.999              1\n",
       "7.3.2                    1\n",
       "1.10.0.33_180403         1\n",
       "3.12.4                   1\n",
       "6.2.6.7                  1\n",
       "7.0.8                    1\n",
       "1.0.72                   1\n",
       "3.49.0202                1\n",
       "4.6.30                   1\n",
       "2.129.12                 1\n",
       "5.3.2                    1\n",
       "1.8.8.0                  1\n",
       "2.2.1.0                  1\n",
       "4.6.68                   1\n",
       "F2i                      1\n",
       "3.39.0                   1\n",
       "2.1.111374               1\n",
       "1.0404                   1\n",
       "1.3.1-lite               1\n",
       "1.8.0.4                  1\n",
       "1.58                     1\n",
       "5.20.38                  1\n",
       "5.0.5                    1\n",
       "Name: Current Ver, Length: 2783, dtype: int64"
      ]
     },
     "execution_count": 13,
     "metadata": {},
     "output_type": "execute_result"
    }
   ],
   "source": [
    "df['Current Ver'].value_counts()"
   ]
  },
  {
   "cell_type": "code",
   "execution_count": 14,
   "metadata": {},
   "outputs": [
    {
     "data": {
      "text/plain": [
       "4.1 and up            2451\n",
       "4.0.3 and up          1501\n",
       "4.0 and up            1375\n",
       "Varies with device    1362\n",
       "4.4 and up             980\n",
       "2.3 and up             652\n",
       "5.0 and up             601\n",
       "4.2 and up             394\n",
       "2.3.3 and up           281\n",
       "2.2 and up             244\n",
       "4.3 and up             243\n",
       "3.0 and up             241\n",
       "2.1 and up             134\n",
       "1.6 and up             116\n",
       "6.0 and up              60\n",
       "7.0 and up              42\n",
       "3.2 and up              36\n",
       "2.0 and up              32\n",
       "5.1 and up              24\n",
       "1.5 and up              20\n",
       "4.4W and up             12\n",
       "3.1 and up              10\n",
       "2.0.1 and up             7\n",
       "8.0 and up               6\n",
       "7.1 and up               3\n",
       "5.0 - 8.0                2\n",
       "4.0.3 - 7.1.1            2\n",
       "1.0 and up               2\n",
       "5.0 - 7.1.1              1\n",
       "7.0 - 7.1.1              1\n",
       "4.1 - 7.1.1              1\n",
       "5.0 - 6.0                1\n",
       "2.2 - 7.1.1              1\n",
       "Name: Android Ver, dtype: int64"
      ]
     },
     "execution_count": 14,
     "metadata": {},
     "output_type": "execute_result"
    }
   ],
   "source": [
    "df['Android Ver'].value_counts()"
   ]
  },
  {
   "cell_type": "code",
   "execution_count": 15,
   "metadata": {},
   "outputs": [
    {
     "data": {
      "text/plain": [
       "4.4    1109\n",
       "4.3    1076\n",
       "4.5    1038\n",
       "4.2     952\n",
       "4.6     823\n",
       "4.1     708\n",
       "4.0     568\n",
       "4.7     499\n",
       "3.9     386\n",
       "3.8     303\n",
       "5.0     274\n",
       "3.7     239\n",
       "4.8     234\n",
       "3.6     174\n",
       "3.5     163\n",
       "3.4     128\n",
       "3.3     102\n",
       "4.9      87\n",
       "3.0      83\n",
       "3.1      69\n",
       "3.2      64\n",
       "2.9      45\n",
       "2.8      42\n",
       "2.6      25\n",
       "2.7      25\n",
       "2.5      21\n",
       "2.3      20\n",
       "2.4      19\n",
       "1.0      16\n",
       "2.2      14\n",
       "1.9      13\n",
       "2.0      12\n",
       "1.7       8\n",
       "2.1       8\n",
       "1.8       8\n",
       "1.6       4\n",
       "1.4       3\n",
       "1.5       3\n",
       "1.2       1\n",
       "Name: Rating, dtype: int64"
      ]
     },
     "execution_count": 15,
     "metadata": {},
     "output_type": "execute_result"
    }
   ],
   "source": [
    "df['Rating'].value_counts()"
   ]
  },
  {
   "cell_type": "code",
   "execution_count": 16,
   "metadata": {},
   "outputs": [
    {
     "data": {
      "text/plain": [
       "0          596\n",
       "1          272\n",
       "2          214\n",
       "3          175\n",
       "4          137\n",
       "5          108\n",
       "6           97\n",
       "7           90\n",
       "8           74\n",
       "9           65\n",
       "10          64\n",
       "12          60\n",
       "11          52\n",
       "13          49\n",
       "17          48\n",
       "14          41\n",
       "19          41\n",
       "21          35\n",
       "20          35\n",
       "16          35\n",
       "15          31\n",
       "25          30\n",
       "30          30\n",
       "24          30\n",
       "38          29\n",
       "18          27\n",
       "22          26\n",
       "27          25\n",
       "23          25\n",
       "33          24\n",
       "          ... \n",
       "4303         1\n",
       "94427        1\n",
       "18652        1\n",
       "522466       1\n",
       "32997        1\n",
       "3213548      1\n",
       "3016297      1\n",
       "59632        1\n",
       "66033        1\n",
       "28835        1\n",
       "858230       1\n",
       "63650        1\n",
       "26744        1\n",
       "24697        1\n",
       "8190074      1\n",
       "428156       1\n",
       "39038        1\n",
       "41089        1\n",
       "2180         1\n",
       "7801         1\n",
       "5234825      1\n",
       "1048766      1\n",
       "407698       1\n",
       "12435        1\n",
       "24729        1\n",
       "155693       1\n",
       "12443        1\n",
       "163997       1\n",
       "37023        1\n",
       "1385093      1\n",
       "Name: Reviews, Length: 6001, dtype: int64"
      ]
     },
     "execution_count": 16,
     "metadata": {},
     "output_type": "execute_result"
    }
   ],
   "source": [
    "df['Reviews'].value_counts()"
   ]
  },
  {
   "cell_type": "code",
   "execution_count": 17,
   "metadata": {},
   "outputs": [
    {
     "data": {
      "text/plain": [
       "<matplotlib.axes._subplots.AxesSubplot at 0xf9df5f0>"
      ]
     },
     "execution_count": 17,
     "metadata": {},
     "output_type": "execute_result"
    },
    {
     "data": {
      "image/png": "[encoded data removed]",
      "text/plain": [
       "<Figure size 432x288 with 1 Axes>"
      ]
     },
     "metadata": {},
     "output_type": "display_data"
    }
   ],
   "source": [
    "df['Rating'].hist(bins=50)"
   ]
  },
  {
   "cell_type": "code",
   "execution_count": 18,
   "metadata": {},
   "outputs": [
    {
     "data": {
      "text/plain": [
       "<matplotlib.axes._subplots.AxesSubplot at 0x10aa7050>"
      ]
     },
     "execution_count": 18,
     "metadata": {},
     "output_type": "execute_result"
    },
    {
     "data": {
      "image/png": "[encoded data removed]",
      "text/plain": [
       "<Figure size 432x288 with 1 Axes>"
      ]
     },
     "metadata": {},
     "output_type": "display_data"
    }
   ],
   "source": [
    "df.boxplot(column='Rating')"
   ]
  },
  {
   "cell_type": "code",
   "execution_count": 19,
   "metadata": {},
   "outputs": [
    {
     "data": {
      "text/plain": [
       "<matplotlib.axes._subplots.AxesSubplot at 0x10b03df0>"
      ]
     },
     "execution_count": 19,
     "metadata": {},
     "output_type": "execute_result"
    },
    {
     "data": {
      "image/png": "[encoded data removed]",
      "text/plain": [
       "<Figure size 432x288 with 1 Axes>"
      ]
     },
     "metadata": {},
     "output_type": "display_data"
    }
   ],
   "source": [
    "df['Rating_log'] = np.log(df['Rating'])\n",
    "df['Rating_log'].hist(bins=20)"
   ]
  },
  {
   "cell_type": "code",
   "execution_count": 20,
   "metadata": {},
   "outputs": [
    {
     "data": {
      "text/plain": [
       "<matplotlib.axes._subplots.AxesSubplot at 0x10b66a90>"
      ]
     },
     "execution_count": 20,
     "metadata": {},
     "output_type": "execute_result"
    },
    {
     "data": {
      "image/png": "[encoded data removed]",
      "text/plain": [
       "<Figure size 432x288 with 1 Axes>"
      ]
     },
     "metadata": {},
     "output_type": "display_data"
    }
   ],
   "source": [
    "df['TotalRating'] = df['Rating'] \n",
    "df['TotalRating_log'] = np.log(df['TotalRating'])\n",
    "df['Rating_log'].hist(bins=20) "
   ]
  },
  {
   "cell_type": "code",
   "execution_count": 21,
   "metadata": {},
   "outputs": [
    {
     "data": {
      "text/plain": [
       "App                   0\n",
       "Category              0\n",
       "Rating                0\n",
       "Reviews               0\n",
       "Size               1695\n",
       "Installs              0\n",
       "Type                  0\n",
       "Price                 0\n",
       "Content Rating        0\n",
       "Genres                0\n",
       "Last Updated          0\n",
       "Current Ver           0\n",
       "Android Ver           0\n",
       "Rating_log         1474\n",
       "TotalRating        1474\n",
       "TotalRating_log    1474\n",
       "dtype: int64"
      ]
     },
     "execution_count": 21,
     "metadata": {},
     "output_type": "execute_result"
    }
   ],
   "source": [
    "# Data Munging and Changing rows to numeric values\n",
    "df[\"Reviews\"].fillna(\"0\",inplace=True)\n",
    "\n",
    "df[\"Type\"].fillna(\"Free\",inplace=True)\n",
    "\n",
    "df[\"Rating\"].fillna(np.mean(df[\"Rating\"]),inplace=True)\n",
    "\n",
    "df[\"Content Rating\"].fillna(\"Everyone\",inplace=True)\n",
    "\n",
    "df[\"Current Ver\"].fillna(\"1.0\",inplace=True)\n",
    "\n",
    "df[\"Size\"].fillna(\"Varies with device\",inplace=True)\n",
    "\n",
    "df[\"Android Ver\"].fillna(df[\"Android Ver\"].mode().iloc[0], inplace=True)\n",
    "\n",
    "\n",
    "df['Price'] = df['Price'].str.replace('$','')\n",
    "df[\"Installs\"] = df[\"Installs\"].str.rstrip('+')\n",
    "df[\"Installs\"] = df[\"Installs\"].str.replace(',','')\n",
    "df['Installs'] = pd.to_numeric(df['Installs'], errors = 'coerce').fillna(0).astype(np.int64)\n",
    "df['Size'] = df['Size'].str.replace('M','')\n",
    "df['Size'] = df['Size'].str.replace('k','')\n",
    "df['Size'] = df['Size'].str.replace('Varies with device','')\n",
    "df[\"Size\"] = pd.to_numeric(df[\"Size\"])\n",
    "\n",
    "\n",
    "df.apply(lambda x: sum(x.isnull()),axis=0)"
   ]
  },
  {
   "cell_type": "code",
   "execution_count": 22,
   "metadata": {},
   "outputs": [],
   "source": [
    "df[\"Rating_log\"].fillna(np.mean(df[\"Rating_log\"]),inplace=True)"
   ]
  },
  {
   "cell_type": "code",
   "execution_count": 23,
   "metadata": {},
   "outputs": [],
   "source": [
    "df[\"TotalRating\"].fillna(np.mean(df[\"TotalRating\"]),inplace=True)"
   ]
  },
  {
   "cell_type": "code",
   "execution_count": 24,
   "metadata": {},
   "outputs": [],
   "source": [
    "df[\"TotalRating_log\"].fillna(np.mean(df[\"TotalRating_log\"]),inplace=True)"
   ]
  },
  {
   "cell_type": "code",
   "execution_count": 25,
   "metadata": {},
   "outputs": [
    {
     "data": {
      "text/plain": [
       "<matplotlib.axes._subplots.AxesSubplot at 0xfa1f9b0>"
      ]
     },
     "execution_count": 25,
     "metadata": {},
     "output_type": "execute_result"
    },
    {
     "data": {
      "image/png": "[encoded data removed]",
      "text/plain": [
       "<Figure size 432x288 with 1 Axes>"
      ]
     },
     "metadata": {},
     "output_type": "display_data"
    }
   ],
   "source": [
    "df.boxplot(column='Rating', by = 'Type')"
   ]
  },
  {
   "cell_type": "code",
   "execution_count": 26,
   "metadata": {},
   "outputs": [
    {
     "data": {
      "text/plain": [
       "<matplotlib.axes._subplots.AxesSubplot at 0x10c108d0>"
      ]
     },
     "execution_count": 26,
     "metadata": {},
     "output_type": "execute_result"
    },
    {
     "data": {
      "image/png": "[encoded data removed]",
      "text/plain": [
       "<Figure size 432x288 with 1 Axes>"
      ]
     },
     "metadata": {},
     "output_type": "display_data"
    }
   ],
   "source": [
    "df.boxplot(column=\"Installs\")"
   ]
  },
  {
   "cell_type": "code",
   "execution_count": 27,
   "metadata": {},
   "outputs": [
    {
     "data": {
      "text/plain": [
       "<matplotlib.axes._subplots.AxesSubplot at 0x10c1b330>"
      ]
     },
     "execution_count": 27,
     "metadata": {},
     "output_type": "execute_result"
    },
    {
     "data": {
      "image/png": "[encoded data removed]",
      "text/plain": [
       "<Figure size 936x360 with 1 Axes>"
      ]
     },
     "metadata": {},
     "output_type": "display_data"
    }
   ],
   "source": [
    "df.boxplot(column=\"Installs\", by = \"Rating\", figsize=(13,5))"
   ]
  },
  {
   "cell_type": "code",
   "execution_count": 28,
   "metadata": {},
   "outputs": [
    {
     "data": {
      "text/plain": [
       "<matplotlib.axes._subplots.AxesSubplot at 0x1104b490>"
      ]
     },
     "execution_count": 28,
     "metadata": {},
     "output_type": "execute_result"
    },
    {
     "data": {
      "image/png": "[encoded data removed]",
      "text/plain": [
       "<Figure size 936x360 with 1 Axes>"
      ]
     },
     "metadata": {},
     "output_type": "display_data"
    }
   ],
   "source": [
    "df.boxplot(column=\"Size\", by = \"Rating\", figsize=(13,5))"
   ]
  },
  {
   "cell_type": "code",
   "execution_count": 29,
   "metadata": {},
   "outputs": [
    {
     "data": {
      "text/plain": [
       "<matplotlib.axes._subplots.AxesSubplot at 0x111d5f70>"
      ]
     },
     "execution_count": 29,
     "metadata": {},
     "output_type": "execute_result"
    },
    {
     "data": {
      "image/png": "[encoded data removed]",
      "text/plain": [
       "<Figure size 936x360 with 1 Axes>"
      ]
     },
     "metadata": {},
     "output_type": "display_data"
    }
   ],
   "source": [
    "df.boxplot(column=\"Installs\", by = \"Type\",figsize=(13,5))"
   ]
  },
  {
   "cell_type": "code",
   "execution_count": 30,
   "metadata": {},
   "outputs": [],
   "source": [
    "#removing values based on the interquartile range, firsly finds the mean, then finds the lower quartile range and upper quartile range, a lower and upper inner fence and a lower and upper outer fence\n",
    "#If a value exceeds both the lower and upper quartile ranges and the lower and upper inner fences, that data is classed as an outlier and will be removed using this data\n",
    "#There are no outliers in this column so nothing was removed from the data\n",
    "\n",
    "def remove_outlier(df_in, Rating):\n",
    "    q1 = df_in[Rating].quantile(0.25)\n",
    "    q3 = df_in[Rating].quantile(0.75)\n",
    "    iqr = q3-q1 #Interquartile range\n",
    "    fence_low  = q1-1.5*iqr\n",
    "    fence_high = q3+1.5*iqr\n",
    "    df_out = df_in.loc[(df_in[Rating] > fence_low) & (df_in[Rating] < fence_high)]\n",
    "    return df_out"
   ]
  },
  {
   "cell_type": "code",
   "execution_count": 31,
   "metadata": {},
   "outputs": [],
   "source": [
    "var_mod = ['App','Category','Rating','Reviews','Size','Installs','Type','Price','Content Rating',\n",
    "           'Genres','Last Updated','Current Ver','Android Ver']\n",
    "le = LabelEncoder()\n",
    "for i in var_mod:\n",
    "    df[i] = le.fit_transform(df[i].astype(str))\n"
   ]
  },
  {
   "cell_type": "code",
   "execution_count": 35,
   "metadata": {},
   "outputs": [],
   "source": [
    "#Generic function for making a classification model and accessing performance:\n",
    "#Creating the classification model\n",
    "\n",
    "from sklearn.linear_model import LogisticRegression\n",
    "from sklearn.model_selection import KFold   #For K-fold cross validation\n",
    "from sklearn.ensemble import RandomForestClassifier\n",
    "from sklearn.tree import DecisionTreeClassifier, export_graphviz\n",
    "from sklearn import metrics\n",
    "\n",
    "def classification_model(model, data, predictors, outcome):\n",
    "  #Fit the model:\n",
    "  model.fit(data[predictors],data[outcome])\n",
    "  \n",
    "  #Make predictions on training set:\n",
    "  predictions = model.predict(data[predictors])\n",
    "  \n",
    "  #Print accuracy\n",
    "  accuracy = metrics.accuracy_score(predictions,data[outcome])\n",
    "  print (\"Accuracy : %s\" % \"{0:.3%}\".format(accuracy))\n",
    "\n",
    "  #Perform k-fold cross-validation with 10 folds\n",
    "  kf = KFold(data.shape[0], n_folds=10)\n",
    "  error = []\n",
    "  for train, test in kf:\n",
    "    # Filter training data\n",
    "    train_predictors = (data[predictors].iloc[train,:])\n",
    "    \n",
    "    # The target we're using to train the algorithm.\n",
    "    train_target = data[outcome].iloc[train]\n",
    "    \n",
    "    # Training the algorithm using the predictors and target.\n",
    "    model.fit(train_predictors, train_target)\n",
    "    \n",
    "    #Record error from each cross-validation run\n",
    "    error.append(model.score(data[predictors].iloc[test,:], data[outcome].iloc[test]))\n",
    " \n",
    "  print (\"Cross-Validation Score : %s\" % \"{0:.3%}\".format(np.mean(error)))\n",
    "\n",
    "  #Fit the model again so that it can be refered outside the function:\n",
    "  model.fit(data[predictors],data[outcome]) "
   ]
  },
  {
   "cell_type": "code",
   "execution_count": null,
   "metadata": {},
   "outputs": [],
   "source": []
  },
  {
   "cell_type": "code",
   "execution_count": 36,
   "metadata": {},
   "outputs": [
    {
     "name": "stderr",
     "output_type": "stream",
     "text": [
      "c:\\python\\lib\\site-packages\\sklearn\\linear_model\\logistic.py:433: FutureWarning: Default solver will be changed to 'lbfgs' in 0.22. Specify a solver to silence this warning.\n",
      "  FutureWarning)\n",
      "c:\\python\\lib\\site-packages\\sklearn\\linear_model\\logistic.py:460: FutureWarning: Default multi_class will be changed to 'auto' in 0.22. Specify the multi_class option to silence this warning.\n",
      "  \"this warning.\", FutureWarning)\n"
     ]
    },
    {
     "name": "stdout",
     "output_type": "stream",
     "text": [
      "Accuracy : 18.007%\n"
     ]
    },
    {
     "ename": "TypeError",
     "evalue": "__init__() got an unexpected keyword argument 'n_folds'",
     "output_type": "error",
     "traceback": [
      "\u001b[1;31m---------------------------------------------------------------------------\u001b[0m",
      "\u001b[1;31mTypeError\u001b[0m                                 Traceback (most recent call last)",
      "\u001b[1;32m<ipython-input-36-a65d7a2a6858>\u001b[0m in \u001b[0;36m<module>\u001b[1;34m()\u001b[0m\n\u001b[0;32m     10\u001b[0m \u001b[0mmodel\u001b[0m \u001b[1;33m=\u001b[0m \u001b[0mLogisticRegression\u001b[0m\u001b[1;33m(\u001b[0m\u001b[1;33m)\u001b[0m\u001b[1;33m\u001b[0m\u001b[0m\n\u001b[0;32m     11\u001b[0m \u001b[0mpredictor_var\u001b[0m \u001b[1;33m=\u001b[0m \u001b[1;33m[\u001b[0m\u001b[1;34m'Installs'\u001b[0m\u001b[1;33m,\u001b[0m\u001b[1;34m'Reviews'\u001b[0m\u001b[1;33m]\u001b[0m\u001b[1;33m\u001b[0m\u001b[0m\n\u001b[1;32m---> 12\u001b[1;33m \u001b[0mclassification_model\u001b[0m\u001b[1;33m(\u001b[0m\u001b[0mmodel\u001b[0m\u001b[1;33m,\u001b[0m \u001b[0mdf\u001b[0m\u001b[1;33m,\u001b[0m \u001b[0mpredictor_var\u001b[0m\u001b[1;33m,\u001b[0m \u001b[0moutcome_var\u001b[0m\u001b[1;33m)\u001b[0m\u001b[1;33m\u001b[0m\u001b[0m\n\u001b[0m",
      "\u001b[1;32m<ipython-input-35-69563d4e6146>\u001b[0m in \u001b[0;36mclassification_model\u001b[1;34m(model, data, predictors, outcome)\u001b[0m\n\u001b[0;32m     20\u001b[0m \u001b[1;33m\u001b[0m\u001b[0m\n\u001b[0;32m     21\u001b[0m   \u001b[1;31m#Perform k-fold cross-validation with 10 folds\u001b[0m\u001b[1;33m\u001b[0m\u001b[1;33m\u001b[0m\u001b[0m\n\u001b[1;32m---> 22\u001b[1;33m   \u001b[0mkf\u001b[0m \u001b[1;33m=\u001b[0m \u001b[0mKFold\u001b[0m\u001b[1;33m(\u001b[0m\u001b[0mdata\u001b[0m\u001b[1;33m.\u001b[0m\u001b[0mshape\u001b[0m\u001b[1;33m[\u001b[0m\u001b[1;36m0\u001b[0m\u001b[1;33m]\u001b[0m\u001b[1;33m,\u001b[0m \u001b[0mn_folds\u001b[0m\u001b[1;33m=\u001b[0m\u001b[1;36m10\u001b[0m\u001b[1;33m)\u001b[0m\u001b[1;33m\u001b[0m\u001b[0m\n\u001b[0m\u001b[0;32m     23\u001b[0m   \u001b[0merror\u001b[0m \u001b[1;33m=\u001b[0m \u001b[1;33m[\u001b[0m\u001b[1;33m]\u001b[0m\u001b[1;33m\u001b[0m\u001b[0m\n\u001b[0;32m     24\u001b[0m   \u001b[1;32mfor\u001b[0m \u001b[0mtrain\u001b[0m\u001b[1;33m,\u001b[0m \u001b[0mtest\u001b[0m \u001b[1;32min\u001b[0m \u001b[0mkf\u001b[0m\u001b[1;33m:\u001b[0m\u001b[1;33m\u001b[0m\u001b[0m\n",
      "\u001b[1;31mTypeError\u001b[0m: __init__() got an unexpected keyword argument 'n_folds'"
     ]
    }
   ],
   "source": [
    "# Logistic Regression\n",
    "from sklearn.linear_model import LogisticRegression\n",
    "from sklearn.model_selection import KFold   #For K-fold cross validation\n",
    "from sklearn.ensemble import RandomForestClassifier\n",
    "from sklearn.tree import DecisionTreeClassifier, export_graphviz\n",
    "from sklearn import metrics\n",
    "\n",
    "\n",
    "outcome_var = 'Rating'\n",
    "model = LogisticRegression()\n",
    "predictor_var = ['Installs','Reviews']\n",
    "classification_model(model, df, predictor_var, outcome_var)\n",
    "\n"
   ]
  },
  {
   "cell_type": "code",
   "execution_count": null,
   "metadata": {},
   "outputs": [],
   "source": []
  },
  {
   "cell_type": "code",
   "execution_count": null,
   "metadata": {},
   "outputs": [],
   "source": []
  },
  {
   "cell_type": "code",
   "execution_count": null,
   "metadata": {},
   "outputs": [],
   "source": []
  },
  {
   "cell_type": "code",
   "execution_count": null,
   "metadata": {},
   "outputs": [],
   "source": []
  },
  {
   "cell_type": "code",
   "execution_count": null,
   "metadata": {},
   "outputs": [],
   "source": []
  },
  {
   "cell_type": "code",
   "execution_count": null,
   "metadata": {},
   "outputs": [],
   "source": []
  },
  {
   "cell_type": "code",
   "execution_count": null,
   "metadata": {},
   "outputs": [],
   "source": []
  },
  {
   "cell_type": "code",
   "execution_count": 64,
   "metadata": {},
   "outputs": [
    {
     "ename": "AttributeError",
     "evalue": "'ChiSquare' object has no attribute 'TestIndependence'",
     "output_type": "error",
     "traceback": [
      "\u001b[1;31m---------------------------------------------------------------------------\u001b[0m",
      "\u001b[1;31mAttributeError\u001b[0m                            Traceback (most recent call last)",
      "\u001b[1;32m<ipython-input-64-2c14ca6ce463>\u001b[0m in \u001b[0;36m<module>\u001b[1;34m()\u001b[0m\n\u001b[0;32m      5\u001b[0m            'Genres','Last Updated','Current Ver','Android Ver']\n\u001b[0;32m      6\u001b[0m \u001b[1;32mfor\u001b[0m \u001b[0mvar\u001b[0m \u001b[1;32min\u001b[0m \u001b[0mtestColumns\u001b[0m\u001b[1;33m:\u001b[0m\u001b[1;33m\u001b[0m\u001b[0m\n\u001b[1;32m----> 7\u001b[1;33m     \u001b[0mcT\u001b[0m\u001b[1;33m.\u001b[0m\u001b[0mTestIndependence\u001b[0m\u001b[1;33m(\u001b[0m\u001b[0mcolX\u001b[0m\u001b[1;33m=\u001b[0m\u001b[0mvar\u001b[0m\u001b[1;33m,\u001b[0m\u001b[0mcolY\u001b[0m\u001b[1;33m=\u001b[0m\u001b[1;34m\"Price\"\u001b[0m \u001b[1;33m)\u001b[0m\u001b[1;33m\u001b[0m\u001b[0m\n\u001b[0m",
      "\u001b[1;31mAttributeError\u001b[0m: 'ChiSquare' object has no attribute 'TestIndependence'"
     ]
    }
   ],
   "source": []
  },
  {
   "cell_type": "code",
   "execution_count": null,
   "metadata": {},
   "outputs": [],
   "source": []
  },
  {
   "cell_type": "code",
   "execution_count": null,
   "metadata": {},
   "outputs": [],
   "source": []
  },
  {
   "cell_type": "code",
   "execution_count": null,
   "metadata": {},
   "outputs": [],
   "source": []
  },
  {
   "cell_type": "code",
   "execution_count": null,
   "metadata": {},
   "outputs": [],
   "source": []
  },
  {
   "cell_type": "code",
   "execution_count": null,
   "metadata": {},
   "outputs": [],
   "source": []
  }
 ],
 "metadata": {
  "kernelspec": {
   "display_name": "Python 3",
   "language": "python",
   "name": "python3"
  },
  "language_info": {
   "codemirror_mode": {
    "name": "ipython",
    "version": 3
   },
   "file_extension": ".py",
   "mimetype": "text/x-python",
   "name": "python",
   "nbconvert_exporter": "python",
   "pygments_lexer": "ipython3",
   "version": "3.7.0"
  }
 },
 "nbformat": 4,
 "nbformat_minor": 2
}
